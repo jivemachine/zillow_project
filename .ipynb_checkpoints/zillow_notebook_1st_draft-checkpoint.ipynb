{
 "cells": [
  {
   "cell_type": "markdown",
   "metadata": {},
   "source": [
    "## Zillow Notebook:"
   ]
  },
  {
   "cell_type": "code",
   "execution_count": 1,
   "metadata": {},
   "outputs": [],
   "source": [
    "%matplotlib inline\n",
    "%load_ext autoreload\n",
    "%autoreload 2\n",
    "\n",
    "import pandas as pd\n",
    "import numpy as np\n",
    "import matplotlib.pyplot as plt\n",
    "import seaborn as sns\n",
    "\n",
    "import warnings\n",
    "warnings.filterwarnings(\"ignore\")\n",
    "\n",
    "from math import sqrt\n",
    "\n",
    "from sklearn.metrics import mean_squared_error, explained_variance_score\n",
    "from sklearn.linear_model import LinearRegression\n",
    "from sklearn.feature_selection import RFE\n",
    "from sklearn.preprocessing import StandardScaler\n",
    "\n",
    "\n",
    "import env\n",
    "import zillow_wrangle\n",
    "import split_scale\n",
    "import evaluate\n",
    "import explore\n",
    "import feature"
   ]
  },
  {
   "cell_type": "markdown",
   "metadata": {},
   "source": [
    "## 1. Acquiring data"
   ]
  },
  {
   "cell_type": "code",
   "execution_count": 2,
   "metadata": {},
   "outputs": [],
   "source": [
    "query = '''\n",
    "SELECT *\n",
    "FROM properties_2017\n",
    "LEFT JOIN predictions_2017 USING(parcelid)\n",
    "WHERE propertylandusetypeid NOT IN (246, 247, 248, 46, 47, 265, 267, 290, 291)\n",
    "AND transactiondate BETWEEN \"2017-05-01\" AND \"2017-06-31\"''\n",
    "AND bathroomcnt >= 1\n",
    "AND bedroomcnt >= 1\n",
    "'''"
   ]
  },
  {
   "cell_type": "code",
   "execution_count": 3,
   "metadata": {},
   "outputs": [],
   "source": [
    "zillow_df = zillow_wrangle.get_data_from_sql()"
   ]
  },
  {
   "cell_type": "markdown",
   "metadata": {},
   "source": [
    "#### ssssooo many NaN values..."
   ]
  },
  {
   "cell_type": "code",
   "execution_count": 4,
   "metadata": {},
   "outputs": [
    {
     "data": {
      "text/html": [
       "<div>\n",
       "<style scoped>\n",
       "    .dataframe tbody tr th:only-of-type {\n",
       "        vertical-align: middle;\n",
       "    }\n",
       "\n",
       "    .dataframe tbody tr th {\n",
       "        vertical-align: top;\n",
       "    }\n",
       "\n",
       "    .dataframe thead th {\n",
       "        text-align: right;\n",
       "    }\n",
       "</style>\n",
       "<table border=\"1\" class=\"dataframe\">\n",
       "  <thead>\n",
       "    <tr style=\"text-align: right;\">\n",
       "      <th></th>\n",
       "      <th>parcelid</th>\n",
       "      <th>id</th>\n",
       "      <th>airconditioningtypeid</th>\n",
       "      <th>architecturalstyletypeid</th>\n",
       "      <th>basementsqft</th>\n",
       "      <th>bathroomcnt</th>\n",
       "      <th>bedroomcnt</th>\n",
       "      <th>buildingclasstypeid</th>\n",
       "      <th>buildingqualitytypeid</th>\n",
       "      <th>calculatedbathnbr</th>\n",
       "      <th>...</th>\n",
       "      <th>taxvaluedollarcnt</th>\n",
       "      <th>assessmentyear</th>\n",
       "      <th>landtaxvaluedollarcnt</th>\n",
       "      <th>taxamount</th>\n",
       "      <th>taxdelinquencyflag</th>\n",
       "      <th>taxdelinquencyyear</th>\n",
       "      <th>censustractandblock</th>\n",
       "      <th>id</th>\n",
       "      <th>logerror</th>\n",
       "      <th>transactiondate</th>\n",
       "    </tr>\n",
       "  </thead>\n",
       "  <tbody>\n",
       "    <tr>\n",
       "      <th>0</th>\n",
       "      <td>11289917</td>\n",
       "      <td>2061546</td>\n",
       "      <td>1.0</td>\n",
       "      <td>NaN</td>\n",
       "      <td>NaN</td>\n",
       "      <td>2.0</td>\n",
       "      <td>3.0</td>\n",
       "      <td>None</td>\n",
       "      <td>6.0</td>\n",
       "      <td>2.0</td>\n",
       "      <td>...</td>\n",
       "      <td>136104.0</td>\n",
       "      <td>2016.0</td>\n",
       "      <td>27214.0</td>\n",
       "      <td>2319.90</td>\n",
       "      <td>Y</td>\n",
       "      <td>15.0</td>\n",
       "      <td>6.037901e+13</td>\n",
       "      <td>1248</td>\n",
       "      <td>-0.362001</td>\n",
       "      <td>2017-06-23</td>\n",
       "    </tr>\n",
       "    <tr>\n",
       "      <th>1</th>\n",
       "      <td>11705026</td>\n",
       "      <td>1834372</td>\n",
       "      <td>NaN</td>\n",
       "      <td>NaN</td>\n",
       "      <td>NaN</td>\n",
       "      <td>1.0</td>\n",
       "      <td>2.0</td>\n",
       "      <td>None</td>\n",
       "      <td>6.0</td>\n",
       "      <td>1.0</td>\n",
       "      <td>...</td>\n",
       "      <td>35606.0</td>\n",
       "      <td>2016.0</td>\n",
       "      <td>23624.0</td>\n",
       "      <td>543.69</td>\n",
       "      <td>None</td>\n",
       "      <td>NaN</td>\n",
       "      <td>6.037232e+13</td>\n",
       "      <td>1772</td>\n",
       "      <td>-0.146056</td>\n",
       "      <td>2017-06-30</td>\n",
       "    </tr>\n",
       "    <tr>\n",
       "      <th>2</th>\n",
       "      <td>14269464</td>\n",
       "      <td>1923117</td>\n",
       "      <td>NaN</td>\n",
       "      <td>NaN</td>\n",
       "      <td>NaN</td>\n",
       "      <td>3.0</td>\n",
       "      <td>4.0</td>\n",
       "      <td>None</td>\n",
       "      <td>NaN</td>\n",
       "      <td>3.0</td>\n",
       "      <td>...</td>\n",
       "      <td>880456.0</td>\n",
       "      <td>2016.0</td>\n",
       "      <td>445569.0</td>\n",
       "      <td>9819.72</td>\n",
       "      <td>None</td>\n",
       "      <td>NaN</td>\n",
       "      <td>6.059064e+13</td>\n",
       "      <td>2028</td>\n",
       "      <td>0.021085</td>\n",
       "      <td>2017-06-01</td>\n",
       "    </tr>\n",
       "    <tr>\n",
       "      <th>3</th>\n",
       "      <td>11389003</td>\n",
       "      <td>2121349</td>\n",
       "      <td>NaN</td>\n",
       "      <td>NaN</td>\n",
       "      <td>NaN</td>\n",
       "      <td>2.0</td>\n",
       "      <td>3.0</td>\n",
       "      <td>None</td>\n",
       "      <td>6.0</td>\n",
       "      <td>2.0</td>\n",
       "      <td>...</td>\n",
       "      <td>614000.0</td>\n",
       "      <td>2016.0</td>\n",
       "      <td>449000.0</td>\n",
       "      <td>7673.19</td>\n",
       "      <td>None</td>\n",
       "      <td>NaN</td>\n",
       "      <td>6.037703e+13</td>\n",
       "      <td>3273</td>\n",
       "      <td>-0.325393</td>\n",
       "      <td>2017-06-01</td>\n",
       "    </tr>\n",
       "    <tr>\n",
       "      <th>4</th>\n",
       "      <td>11967869</td>\n",
       "      <td>2093710</td>\n",
       "      <td>NaN</td>\n",
       "      <td>NaN</td>\n",
       "      <td>NaN</td>\n",
       "      <td>1.0</td>\n",
       "      <td>2.0</td>\n",
       "      <td>None</td>\n",
       "      <td>5.0</td>\n",
       "      <td>1.0</td>\n",
       "      <td>...</td>\n",
       "      <td>274237.0</td>\n",
       "      <td>2016.0</td>\n",
       "      <td>191821.0</td>\n",
       "      <td>3267.47</td>\n",
       "      <td>None</td>\n",
       "      <td>NaN</td>\n",
       "      <td>6.037185e+13</td>\n",
       "      <td>3429</td>\n",
       "      <td>-0.005566</td>\n",
       "      <td>2017-06-29</td>\n",
       "    </tr>\n",
       "  </tbody>\n",
       "</table>\n",
       "<p>5 rows × 62 columns</p>\n",
       "</div>"
      ],
      "text/plain": [
       "   parcelid       id  airconditioningtypeid  architecturalstyletypeid  \\\n",
       "0  11289917  2061546                    1.0                       NaN   \n",
       "1  11705026  1834372                    NaN                       NaN   \n",
       "2  14269464  1923117                    NaN                       NaN   \n",
       "3  11389003  2121349                    NaN                       NaN   \n",
       "4  11967869  2093710                    NaN                       NaN   \n",
       "\n",
       "   basementsqft  bathroomcnt  bedroomcnt buildingclasstypeid  \\\n",
       "0           NaN          2.0         3.0                None   \n",
       "1           NaN          1.0         2.0                None   \n",
       "2           NaN          3.0         4.0                None   \n",
       "3           NaN          2.0         3.0                None   \n",
       "4           NaN          1.0         2.0                None   \n",
       "\n",
       "   buildingqualitytypeid  calculatedbathnbr  ...  taxvaluedollarcnt  \\\n",
       "0                    6.0                2.0  ...           136104.0   \n",
       "1                    6.0                1.0  ...            35606.0   \n",
       "2                    NaN                3.0  ...           880456.0   \n",
       "3                    6.0                2.0  ...           614000.0   \n",
       "4                    5.0                1.0  ...           274237.0   \n",
       "\n",
       "   assessmentyear  landtaxvaluedollarcnt  taxamount  taxdelinquencyflag  \\\n",
       "0          2016.0                27214.0    2319.90                   Y   \n",
       "1          2016.0                23624.0     543.69                None   \n",
       "2          2016.0               445569.0    9819.72                None   \n",
       "3          2016.0               449000.0    7673.19                None   \n",
       "4          2016.0               191821.0    3267.47                None   \n",
       "\n",
       "   taxdelinquencyyear  censustractandblock    id  logerror  transactiondate  \n",
       "0                15.0         6.037901e+13  1248 -0.362001       2017-06-23  \n",
       "1                 NaN         6.037232e+13  1772 -0.146056       2017-06-30  \n",
       "2                 NaN         6.059064e+13  2028  0.021085       2017-06-01  \n",
       "3                 NaN         6.037703e+13  3273 -0.325393       2017-06-01  \n",
       "4                 NaN         6.037185e+13  3429 -0.005566       2017-06-29  \n",
       "\n",
       "[5 rows x 62 columns]"
      ]
     },
     "execution_count": 4,
     "metadata": {},
     "output_type": "execute_result"
    }
   ],
   "source": [
    "zillow_df.head()"
   ]
  },
  {
   "cell_type": "markdown",
   "metadata": {},
   "source": [
    "### 1.0.1 cleaning the Data"
   ]
  },
  {
   "cell_type": "markdown",
   "metadata": {},
   "source": [
    "##### dropping columns"
   ]
  },
  {
   "cell_type": "code",
   "execution_count": 5,
   "metadata": {},
   "outputs": [
    {
     "name": "stdout",
     "output_type": "stream",
     "text": [
      "<class 'pandas.core.frame.DataFrame'>\n",
      "RangeIndex: 20802 entries, 0 to 20801\n",
      "Data columns (total 62 columns):\n",
      "parcelid                        20802 non-null int64\n",
      "id                              20802 non-null int64\n",
      "airconditioningtypeid           6966 non-null float64\n",
      "architecturalstyletypeid        49 non-null float64\n",
      "basementsqft                    11 non-null float64\n",
      "bathroomcnt                     20802 non-null float64\n",
      "bedroomcnt                      20802 non-null float64\n",
      "buildingclasstypeid             0 non-null object\n",
      "buildingqualitytypeid           13153 non-null float64\n",
      "calculatedbathnbr               20796 non-null float64\n",
      "decktypeid                      175 non-null float64\n",
      "finishedfloor1squarefeet        1667 non-null float64\n",
      "calculatedfinishedsquarefeet    20801 non-null float64\n",
      "finishedsquarefeet12            20751 non-null float64\n",
      "finishedsquarefeet13            7 non-null float64\n",
      "finishedsquarefeet15            2 non-null float64\n",
      "finishedsquarefeet50            1667 non-null float64\n",
      "finishedsquarefeet6             41 non-null float64\n",
      "fips                            20802 non-null float64\n",
      "fireplacecnt                    2375 non-null float64\n",
      "fullbathcnt                     20796 non-null float64\n",
      "garagecarcnt                    7213 non-null float64\n",
      "garagetotalsqft                 7213 non-null float64\n",
      "hashottuborspa                  480 non-null float64\n",
      "heatingorsystemtypeid           13582 non-null float64\n",
      "latitude                        20802 non-null float64\n",
      "longitude                       20802 non-null float64\n",
      "lotsizesquarefeet               18550 non-null float64\n",
      "poolcnt                         4622 non-null float64\n",
      "poolsizesum                     268 non-null float64\n",
      "pooltypeid10                    138 non-null float64\n",
      "pooltypeid2                     342 non-null float64\n",
      "pooltypeid7                     4277 non-null float64\n",
      "propertycountylandusecode       20802 non-null object\n",
      "propertylandusetypeid           20802 non-null float64\n",
      "propertyzoningdesc              13232 non-null object\n",
      "rawcensustractandblock          20802 non-null float64\n",
      "regionidcity                    20414 non-null float64\n",
      "regionidcounty                  20802 non-null float64\n",
      "regionidneighborhood            8191 non-null float64\n",
      "regionidzip                     20789 non-null float64\n",
      "roomcnt                         20802 non-null float64\n",
      "storytypeid                     11 non-null float64\n",
      "threequarterbathnbr             2930 non-null float64\n",
      "typeconstructiontypeid          51 non-null float64\n",
      "unitcnt                         13244 non-null float64\n",
      "yardbuildingsqft17              688 non-null float64\n",
      "yardbuildingsqft26              23 non-null float64\n",
      "yearbuilt                       20785 non-null float64\n",
      "numberofstories                 4882 non-null float64\n",
      "fireplaceflag                   43 non-null float64\n",
      "structuretaxvaluedollarcnt      20780 non-null float64\n",
      "taxvaluedollarcnt               20802 non-null float64\n",
      "assessmentyear                  20802 non-null float64\n",
      "landtaxvaluedollarcnt           20802 non-null float64\n",
      "taxamount                       20801 non-null float64\n",
      "taxdelinquencyflag              677 non-null object\n",
      "taxdelinquencyyear              677 non-null float64\n",
      "censustractandblock             20728 non-null float64\n",
      "id                              20802 non-null int64\n",
      "logerror                        20802 non-null float64\n",
      "transactiondate                 20802 non-null object\n",
      "dtypes: float64(54), int64(3), object(5)\n",
      "memory usage: 9.8+ MB\n"
     ]
    }
   ],
   "source": [
    "zillow_df.info()"
   ]
  },
  {
   "cell_type": "code",
   "execution_count": 6,
   "metadata": {},
   "outputs": [],
   "source": [
    "zillow_df = zillow_df.drop(columns=['fireplaceflag','yardbuildingsqft26','yardbuildingsqft17','typeconstructiontypeid','threequarterbathnbr','storytypeid','pooltypeid7','pooltypeid2','pooltypeid10','poolsizesum','poolcnt','heatingorsystemtypeid','hashottuborspa','fireplacecnt','finishedsquarefeet6','finishedsquarefeet50','finishedsquarefeet15','finishedsquarefeet13','finishedfloor1squarefeet','calculatedbathnbr','buildingqualitytypeid', 'airconditioningtypeid', 'buildingclasstypeid', 'basementsqft', 'decktypeid', 'architecturalstyletypeid'])"
   ]
  },
  {
   "cell_type": "code",
   "execution_count": 7,
   "metadata": {},
   "outputs": [
    {
     "name": "stdout",
     "output_type": "stream",
     "text": [
      "<class 'pandas.core.frame.DataFrame'>\n",
      "RangeIndex: 20802 entries, 0 to 20801\n",
      "Data columns (total 36 columns):\n",
      "parcelid                        20802 non-null int64\n",
      "id                              20802 non-null int64\n",
      "bathroomcnt                     20802 non-null float64\n",
      "bedroomcnt                      20802 non-null float64\n",
      "calculatedfinishedsquarefeet    20801 non-null float64\n",
      "finishedsquarefeet12            20751 non-null float64\n",
      "fips                            20802 non-null float64\n",
      "fullbathcnt                     20796 non-null float64\n",
      "garagecarcnt                    7213 non-null float64\n",
      "garagetotalsqft                 7213 non-null float64\n",
      "latitude                        20802 non-null float64\n",
      "longitude                       20802 non-null float64\n",
      "lotsizesquarefeet               18550 non-null float64\n",
      "propertycountylandusecode       20802 non-null object\n",
      "propertylandusetypeid           20802 non-null float64\n",
      "propertyzoningdesc              13232 non-null object\n",
      "rawcensustractandblock          20802 non-null float64\n",
      "regionidcity                    20414 non-null float64\n",
      "regionidcounty                  20802 non-null float64\n",
      "regionidneighborhood            8191 non-null float64\n",
      "regionidzip                     20789 non-null float64\n",
      "roomcnt                         20802 non-null float64\n",
      "unitcnt                         13244 non-null float64\n",
      "yearbuilt                       20785 non-null float64\n",
      "numberofstories                 4882 non-null float64\n",
      "structuretaxvaluedollarcnt      20780 non-null float64\n",
      "taxvaluedollarcnt               20802 non-null float64\n",
      "assessmentyear                  20802 non-null float64\n",
      "landtaxvaluedollarcnt           20802 non-null float64\n",
      "taxamount                       20801 non-null float64\n",
      "taxdelinquencyflag              677 non-null object\n",
      "taxdelinquencyyear              677 non-null float64\n",
      "censustractandblock             20728 non-null float64\n",
      "id                              20802 non-null int64\n",
      "logerror                        20802 non-null float64\n",
      "transactiondate                 20802 non-null object\n",
      "dtypes: float64(29), int64(3), object(4)\n",
      "memory usage: 5.7+ MB\n"
     ]
    }
   ],
   "source": [
    "zillow_df.info()"
   ]
  },
  {
   "cell_type": "markdown",
   "metadata": {},
   "source": [
    "#### gotta drop more!"
   ]
  },
  {
   "cell_type": "code",
   "execution_count": 8,
   "metadata": {},
   "outputs": [],
   "source": [
    "zillow_df = zillow_df.drop(columns=['lotsizesquarefeet','censustractandblock','fullbathcnt','finishedsquarefeet12','propertycountylandusecode','propertylandusetypeid','parcelid', 'fips', 'garagecarcnt', 'garagetotalsqft', 'latitude', 'longitude', 'unitcnt', 'numberofstories', 'taxdelinquencyflag','taxdelinquencyyear' ])"
   ]
  },
  {
   "cell_type": "code",
   "execution_count": 9,
   "metadata": {},
   "outputs": [
    {
     "name": "stdout",
     "output_type": "stream",
     "text": [
      "<class 'pandas.core.frame.DataFrame'>\n",
      "RangeIndex: 20802 entries, 0 to 20801\n",
      "Data columns (total 20 columns):\n",
      "id                              20802 non-null int64\n",
      "bathroomcnt                     20802 non-null float64\n",
      "bedroomcnt                      20802 non-null float64\n",
      "calculatedfinishedsquarefeet    20801 non-null float64\n",
      "propertyzoningdesc              13232 non-null object\n",
      "rawcensustractandblock          20802 non-null float64\n",
      "regionidcity                    20414 non-null float64\n",
      "regionidcounty                  20802 non-null float64\n",
      "regionidneighborhood            8191 non-null float64\n",
      "regionidzip                     20789 non-null float64\n",
      "roomcnt                         20802 non-null float64\n",
      "yearbuilt                       20785 non-null float64\n",
      "structuretaxvaluedollarcnt      20780 non-null float64\n",
      "taxvaluedollarcnt               20802 non-null float64\n",
      "assessmentyear                  20802 non-null float64\n",
      "landtaxvaluedollarcnt           20802 non-null float64\n",
      "taxamount                       20801 non-null float64\n",
      "id                              20802 non-null int64\n",
      "logerror                        20802 non-null float64\n",
      "transactiondate                 20802 non-null object\n",
      "dtypes: float64(16), int64(2), object(2)\n",
      "memory usage: 3.2+ MB\n"
     ]
    }
   ],
   "source": [
    "zillow_df.info()"
   ]
  },
  {
   "cell_type": "markdown",
   "metadata": {},
   "source": [
    "#### lets lose these null values!"
   ]
  },
  {
   "cell_type": "code",
   "execution_count": 10,
   "metadata": {},
   "outputs": [
    {
     "data": {
      "text/plain": [
       "id                                  0\n",
       "bathroomcnt                         0\n",
       "bedroomcnt                          0\n",
       "calculatedfinishedsquarefeet        1\n",
       "propertyzoningdesc               7570\n",
       "rawcensustractandblock              0\n",
       "regionidcity                      388\n",
       "regionidcounty                      0\n",
       "regionidneighborhood            12611\n",
       "regionidzip                        13\n",
       "roomcnt                             0\n",
       "yearbuilt                          17\n",
       "structuretaxvaluedollarcnt         22\n",
       "taxvaluedollarcnt                   0\n",
       "assessmentyear                      0\n",
       "landtaxvaluedollarcnt               0\n",
       "taxamount                           1\n",
       "id                                  0\n",
       "logerror                            0\n",
       "transactiondate                     0\n",
       "dtype: int64"
      ]
     },
     "execution_count": 10,
     "metadata": {},
     "output_type": "execute_result"
    }
   ],
   "source": [
    "zillow_df.isnull().sum()"
   ]
  },
  {
   "cell_type": "code",
   "execution_count": 11,
   "metadata": {},
   "outputs": [
    {
     "name": "stdout",
     "output_type": "stream",
     "text": [
      "<class 'pandas.core.frame.DataFrame'>\n",
      "RangeIndex: 20802 entries, 0 to 20801\n",
      "Data columns (total 16 columns):\n",
      "id                              20802 non-null int64\n",
      "bathroomcnt                     20802 non-null float64\n",
      "bedroomcnt                      20802 non-null float64\n",
      "calculatedfinishedsquarefeet    20801 non-null float64\n",
      "rawcensustractandblock          20802 non-null float64\n",
      "regionidcounty                  20802 non-null float64\n",
      "regionidzip                     20789 non-null float64\n",
      "roomcnt                         20802 non-null float64\n",
      "structuretaxvaluedollarcnt      20780 non-null float64\n",
      "taxvaluedollarcnt               20802 non-null float64\n",
      "assessmentyear                  20802 non-null float64\n",
      "landtaxvaluedollarcnt           20802 non-null float64\n",
      "taxamount                       20801 non-null float64\n",
      "id                              20802 non-null int64\n",
      "logerror                        20802 non-null float64\n",
      "transactiondate                 20802 non-null object\n",
      "dtypes: float64(13), int64(2), object(1)\n",
      "memory usage: 2.5+ MB\n"
     ]
    }
   ],
   "source": [
    "model_df = zillow_df\n",
    "model_df = model_df.drop(columns=[\"propertyzoningdesc\", 'regionidcity', 'regionidneighborhood', 'yearbuilt'])\n",
    "model_df.info()"
   ]
  },
  {
   "cell_type": "code",
   "execution_count": 12,
   "metadata": {},
   "outputs": [
    {
     "name": "stdout",
     "output_type": "stream",
     "text": [
      "<class 'pandas.core.frame.DataFrame'>\n",
      "Int64Index: 20765 entries, 0 to 20801\n",
      "Data columns (total 16 columns):\n",
      "id                              20765 non-null int64\n",
      "bathroomcnt                     20765 non-null float64\n",
      "bedroomcnt                      20765 non-null float64\n",
      "calculatedfinishedsquarefeet    20765 non-null float64\n",
      "rawcensustractandblock          20765 non-null float64\n",
      "regionidcounty                  20765 non-null float64\n",
      "regionidzip                     20765 non-null float64\n",
      "roomcnt                         20765 non-null float64\n",
      "structuretaxvaluedollarcnt      20765 non-null float64\n",
      "taxvaluedollarcnt               20765 non-null float64\n",
      "assessmentyear                  20765 non-null float64\n",
      "landtaxvaluedollarcnt           20765 non-null float64\n",
      "taxamount                       20765 non-null float64\n",
      "id                              20765 non-null int64\n",
      "logerror                        20765 non-null float64\n",
      "transactiondate                 20765 non-null object\n",
      "dtypes: float64(13), int64(2), object(1)\n",
      "memory usage: 2.7+ MB\n"
     ]
    }
   ],
   "source": [
    "model_df.dropna(axis=0, inplace=True)\n",
    "\n",
    "model_df.info()"
   ]
  },
  {
   "cell_type": "markdown",
   "metadata": {},
   "source": [
    "#### we end our conquest with 20,765 rows and 16 columns!"
   ]
  },
  {
   "cell_type": "markdown",
   "metadata": {},
   "source": [
    "### 2.0 creating MVP"
   ]
  },
  {
   "cell_type": "markdown",
   "metadata": {},
   "source": [
    "#### 2.1 split our data"
   ]
  },
  {
   "cell_type": "code",
   "execution_count": 13,
   "metadata": {},
   "outputs": [],
   "source": [
    "train, test = split_scale.split_my_data(model_df)"
   ]
  },
  {
   "cell_type": "code",
   "execution_count": 14,
   "metadata": {},
   "outputs": [],
   "source": [
    "X_train = train[['bathroomcnt', 'bedroomcnt', 'calculatedfinishedsquarefeet']]\n",
    "y_train = train[['taxvaluedollarcnt']]\n",
    "X_test = test[['bathroomcnt', 'bedroomcnt', 'calculatedfinishedsquarefeet']]\n",
    "y_test = test[['taxvaluedollarcnt']]"
   ]
  },
  {
   "cell_type": "markdown",
   "metadata": {},
   "source": [
    "#### 2.2.1 scale our data"
   ]
  },
  {
   "cell_type": "code",
   "execution_count": 15,
   "metadata": {},
   "outputs": [],
   "source": [
    "#using the standard scaler from sklearn\n",
    "scaler, X_train, X_test = split_scale.standard_scaler(X_train, X_test)"
   ]
  },
  {
   "cell_type": "code",
   "execution_count": 16,
   "metadata": {},
   "outputs": [],
   "source": [
    "scaler, y_train, y_test = split_scale.standard_scaler(y_train, y_test)"
   ]
  },
  {
   "cell_type": "code",
   "execution_count": 17,
   "metadata": {},
   "outputs": [
    {
     "data": {
      "text/plain": [
       "((16612, 3), (16612, 1))"
      ]
     },
     "execution_count": 17,
     "metadata": {},
     "output_type": "execute_result"
    }
   ],
   "source": [
    "X_train.shape, y_train.shape"
   ]
  },
  {
   "cell_type": "code",
   "execution_count": 18,
   "metadata": {},
   "outputs": [
    {
     "data": {
      "text/html": [
       "<div>\n",
       "<style scoped>\n",
       "    .dataframe tbody tr th:only-of-type {\n",
       "        vertical-align: middle;\n",
       "    }\n",
       "\n",
       "    .dataframe tbody tr th {\n",
       "        vertical-align: top;\n",
       "    }\n",
       "\n",
       "    .dataframe thead th {\n",
       "        text-align: right;\n",
       "    }\n",
       "</style>\n",
       "<table border=\"1\" class=\"dataframe\">\n",
       "  <thead>\n",
       "    <tr style=\"text-align: right;\">\n",
       "      <th></th>\n",
       "      <th>bathroomcnt</th>\n",
       "      <th>bedroomcnt</th>\n",
       "      <th>calculatedfinishedsquarefeet</th>\n",
       "    </tr>\n",
       "  </thead>\n",
       "  <tbody>\n",
       "    <tr>\n",
       "      <th>2061</th>\n",
       "      <td>-1.383554</td>\n",
       "      <td>-1.037843</td>\n",
       "      <td>-1.100181</td>\n",
       "    </tr>\n",
       "    <tr>\n",
       "      <th>11994</th>\n",
       "      <td>0.718188</td>\n",
       "      <td>0.955871</td>\n",
       "      <td>0.787003</td>\n",
       "    </tr>\n",
       "    <tr>\n",
       "      <th>15669</th>\n",
       "      <td>3.870800</td>\n",
       "      <td>0.955871</td>\n",
       "      <td>2.433224</td>\n",
       "    </tr>\n",
       "    <tr>\n",
       "      <th>15414</th>\n",
       "      <td>-1.383554</td>\n",
       "      <td>-1.037843</td>\n",
       "      <td>-0.910396</td>\n",
       "    </tr>\n",
       "    <tr>\n",
       "      <th>14455</th>\n",
       "      <td>0.192752</td>\n",
       "      <td>0.955871</td>\n",
       "      <td>0.837114</td>\n",
       "    </tr>\n",
       "  </tbody>\n",
       "</table>\n",
       "</div>"
      ],
      "text/plain": [
       "       bathroomcnt  bedroomcnt  calculatedfinishedsquarefeet\n",
       "2061     -1.383554   -1.037843                     -1.100181\n",
       "11994     0.718188    0.955871                      0.787003\n",
       "15669     3.870800    0.955871                      2.433224\n",
       "15414    -1.383554   -1.037843                     -0.910396\n",
       "14455     0.192752    0.955871                      0.837114"
      ]
     },
     "execution_count": 18,
     "metadata": {},
     "output_type": "execute_result"
    }
   ],
   "source": [
    "X_train.head()"
   ]
  },
  {
   "cell_type": "markdown",
   "metadata": {},
   "source": [
    "feature selection"
   ]
  },
  {
   "cell_type": "markdown",
   "metadata": {},
   "source": [
    "#### 2.3.0 Initialize and fit our linear regression model"
   ]
  },
  {
   "cell_type": "code",
   "execution_count": 19,
   "metadata": {},
   "outputs": [
    {
     "data": {
      "text/plain": [
       "LinearRegression(copy_X=True, fit_intercept=True, n_jobs=None, normalize=False)"
      ]
     },
     "execution_count": 19,
     "metadata": {},
     "output_type": "execute_result"
    }
   ],
   "source": [
    "lm = LinearRegression()\n",
    "\n",
    "# Fitting my data to the multiple regression model\n",
    "lm.fit(X_train, y_train)"
   ]
  },
  {
   "cell_type": "markdown",
   "metadata": {},
   "source": [
    "### 2.3.1 We make our predictions"
   ]
  },
  {
   "cell_type": "code",
   "execution_count": 20,
   "metadata": {},
   "outputs": [],
   "source": [
    "y_train['yhat_lm'] = lm.predict(X_train)"
   ]
  },
  {
   "cell_type": "markdown",
   "metadata": {},
   "source": [
    "evaluate regression errors"
   ]
  },
  {
   "cell_type": "code",
   "execution_count": 21,
   "metadata": {},
   "outputs": [
    {
     "data": {
      "text/html": [
       "<div>\n",
       "<style scoped>\n",
       "    .dataframe tbody tr th:only-of-type {\n",
       "        vertical-align: middle;\n",
       "    }\n",
       "\n",
       "    .dataframe tbody tr th {\n",
       "        vertical-align: top;\n",
       "    }\n",
       "\n",
       "    .dataframe thead th {\n",
       "        text-align: right;\n",
       "    }\n",
       "</style>\n",
       "<table border=\"1\" class=\"dataframe\">\n",
       "  <thead>\n",
       "    <tr style=\"text-align: right;\">\n",
       "      <th></th>\n",
       "      <th>taxvaluedollarcnt</th>\n",
       "      <th>yhat_lm</th>\n",
       "    </tr>\n",
       "  </thead>\n",
       "  <tbody>\n",
       "    <tr>\n",
       "      <th>2061</th>\n",
       "      <td>-0.269129</td>\n",
       "      <td>-0.651891</td>\n",
       "    </tr>\n",
       "    <tr>\n",
       "      <th>11994</th>\n",
       "      <td>0.239301</td>\n",
       "      <td>0.394252</td>\n",
       "    </tr>\n",
       "    <tr>\n",
       "      <th>15669</th>\n",
       "      <td>-0.215869</td>\n",
       "      <td>1.812346</td>\n",
       "    </tr>\n",
       "    <tr>\n",
       "      <th>15414</th>\n",
       "      <td>-0.108193</td>\n",
       "      <td>-0.521645</td>\n",
       "    </tr>\n",
       "    <tr>\n",
       "      <th>14455</th>\n",
       "      <td>0.229926</td>\n",
       "      <td>0.380589</td>\n",
       "    </tr>\n",
       "  </tbody>\n",
       "</table>\n",
       "</div>"
      ],
      "text/plain": [
       "       taxvaluedollarcnt   yhat_lm\n",
       "2061           -0.269129 -0.651891\n",
       "11994           0.239301  0.394252\n",
       "15669          -0.215869  1.812346\n",
       "15414          -0.108193 -0.521645\n",
       "14455           0.229926  0.380589"
      ]
     },
     "execution_count": 21,
     "metadata": {},
     "output_type": "execute_result"
    }
   ],
   "source": [
    "y_train.head()"
   ]
  },
  {
   "cell_type": "code",
   "execution_count": 22,
   "metadata": {},
   "outputs": [
    {
     "data": {
      "text/html": [
       "<div>\n",
       "<style scoped>\n",
       "    .dataframe tbody tr th:only-of-type {\n",
       "        vertical-align: middle;\n",
       "    }\n",
       "\n",
       "    .dataframe tbody tr th {\n",
       "        vertical-align: top;\n",
       "    }\n",
       "\n",
       "    .dataframe thead th {\n",
       "        text-align: right;\n",
       "    }\n",
       "</style>\n",
       "<table border=\"1\" class=\"dataframe\">\n",
       "  <thead>\n",
       "    <tr style=\"text-align: right;\">\n",
       "      <th></th>\n",
       "      <th>metric</th>\n",
       "      <th>model_values</th>\n",
       "    </tr>\n",
       "  </thead>\n",
       "  <tbody>\n",
       "    <tr>\n",
       "      <th>0</th>\n",
       "      <td>SSE</td>\n",
       "      <td>9920.147995</td>\n",
       "    </tr>\n",
       "    <tr>\n",
       "      <th>1</th>\n",
       "      <td>ESS</td>\n",
       "      <td>16612.000000</td>\n",
       "    </tr>\n",
       "    <tr>\n",
       "      <th>2</th>\n",
       "      <td>TSS</td>\n",
       "      <td>26532.147995</td>\n",
       "    </tr>\n",
       "    <tr>\n",
       "      <th>3</th>\n",
       "      <td>MSE</td>\n",
       "      <td>0.597168</td>\n",
       "    </tr>\n",
       "    <tr>\n",
       "      <th>4</th>\n",
       "      <td>RMSE</td>\n",
       "      <td>0.772766</td>\n",
       "    </tr>\n",
       "    <tr>\n",
       "      <th>5</th>\n",
       "      <td>R^2</td>\n",
       "      <td>0.626108</td>\n",
       "    </tr>\n",
       "  </tbody>\n",
       "</table>\n",
       "</div>"
      ],
      "text/plain": [
       "  metric  model_values\n",
       "0    SSE   9920.147995\n",
       "1    ESS  16612.000000\n",
       "2    TSS  26532.147995\n",
       "3    MSE      0.597168\n",
       "4   RMSE      0.772766\n",
       "5    R^2      0.626108"
      ]
     },
     "execution_count": 22,
     "metadata": {},
     "output_type": "execute_result"
    }
   ],
   "source": [
    "errors_df = evaluate.regression_errors(y_train.taxvaluedollarcnt, y_train.yhat_lm, y_train)\n",
    "\n",
    "errors_df"
   ]
  },
  {
   "cell_type": "markdown",
   "metadata": {},
   "source": [
    "## Use our model on our test data and see how we do!"
   ]
  },
  {
   "cell_type": "code",
   "execution_count": 23,
   "metadata": {},
   "outputs": [],
   "source": [
    "y_test['yhat_lm'] = lm.predict(X_test)"
   ]
  },
  {
   "cell_type": "code",
   "execution_count": 26,
   "metadata": {},
   "outputs": [
    {
     "data": {
      "text/html": [
       "<div>\n",
       "<style scoped>\n",
       "    .dataframe tbody tr th:only-of-type {\n",
       "        vertical-align: middle;\n",
       "    }\n",
       "\n",
       "    .dataframe tbody tr th {\n",
       "        vertical-align: top;\n",
       "    }\n",
       "\n",
       "    .dataframe thead th {\n",
       "        text-align: right;\n",
       "    }\n",
       "</style>\n",
       "<table border=\"1\" class=\"dataframe\">\n",
       "  <thead>\n",
       "    <tr style=\"text-align: right;\">\n",
       "      <th></th>\n",
       "      <th>taxvaluedollarcnt</th>\n",
       "      <th>yhat_lm</th>\n",
       "    </tr>\n",
       "  </thead>\n",
       "  <tbody>\n",
       "    <tr>\n",
       "      <th>12905</th>\n",
       "      <td>-0.587010</td>\n",
       "      <td>-0.413086</td>\n",
       "    </tr>\n",
       "    <tr>\n",
       "      <th>19631</th>\n",
       "      <td>0.060402</td>\n",
       "      <td>0.149858</td>\n",
       "    </tr>\n",
       "    <tr>\n",
       "      <th>7486</th>\n",
       "      <td>0.958664</td>\n",
       "      <td>1.050723</td>\n",
       "    </tr>\n",
       "    <tr>\n",
       "      <th>7946</th>\n",
       "      <td>-0.630500</td>\n",
       "      <td>-0.202351</td>\n",
       "    </tr>\n",
       "    <tr>\n",
       "      <th>9618</th>\n",
       "      <td>-0.455897</td>\n",
       "      <td>-0.619695</td>\n",
       "    </tr>\n",
       "  </tbody>\n",
       "</table>\n",
       "</div>"
      ],
      "text/plain": [
       "       taxvaluedollarcnt   yhat_lm\n",
       "12905          -0.587010 -0.413086\n",
       "19631           0.060402  0.149858\n",
       "7486            0.958664  1.050723\n",
       "7946           -0.630500 -0.202351\n",
       "9618           -0.455897 -0.619695"
      ]
     },
     "execution_count": 26,
     "metadata": {},
     "output_type": "execute_result"
    }
   ],
   "source": [
    "y_test.head()"
   ]
  },
  {
   "cell_type": "code",
   "execution_count": 24,
   "metadata": {},
   "outputs": [
    {
     "data": {
      "text/html": [
       "<div>\n",
       "<style scoped>\n",
       "    .dataframe tbody tr th:only-of-type {\n",
       "        vertical-align: middle;\n",
       "    }\n",
       "\n",
       "    .dataframe tbody tr th {\n",
       "        vertical-align: top;\n",
       "    }\n",
       "\n",
       "    .dataframe thead th {\n",
       "        text-align: right;\n",
       "    }\n",
       "</style>\n",
       "<table border=\"1\" class=\"dataframe\">\n",
       "  <thead>\n",
       "    <tr style=\"text-align: right;\">\n",
       "      <th></th>\n",
       "      <th>metric</th>\n",
       "      <th>model_values</th>\n",
       "    </tr>\n",
       "  </thead>\n",
       "  <tbody>\n",
       "    <tr>\n",
       "      <th>0</th>\n",
       "      <td>SSE</td>\n",
       "      <td>3153.802440</td>\n",
       "    </tr>\n",
       "    <tr>\n",
       "      <th>1</th>\n",
       "      <td>ESS</td>\n",
       "      <td>4931.755990</td>\n",
       "    </tr>\n",
       "    <tr>\n",
       "      <th>2</th>\n",
       "      <td>TSS</td>\n",
       "      <td>8085.558430</td>\n",
       "    </tr>\n",
       "    <tr>\n",
       "      <th>3</th>\n",
       "      <td>MSE</td>\n",
       "      <td>0.759403</td>\n",
       "    </tr>\n",
       "    <tr>\n",
       "      <th>4</th>\n",
       "      <td>RMSE</td>\n",
       "      <td>0.871438</td>\n",
       "    </tr>\n",
       "    <tr>\n",
       "      <th>5</th>\n",
       "      <td>R^2</td>\n",
       "      <td>0.609946</td>\n",
       "    </tr>\n",
       "  </tbody>\n",
       "</table>\n",
       "</div>"
      ],
      "text/plain": [
       "  metric  model_values\n",
       "0    SSE   3153.802440\n",
       "1    ESS   4931.755990\n",
       "2    TSS   8085.558430\n",
       "3    MSE      0.759403\n",
       "4   RMSE      0.871438\n",
       "5    R^2      0.609946"
      ]
     },
     "execution_count": 24,
     "metadata": {},
     "output_type": "execute_result"
    }
   ],
   "source": [
    "test_errors = evaluate.regression_errors(y_test.taxvaluedollarcnt, y_test.yhat_lm, y_test)\n",
    "\n",
    "test_errors"
   ]
  }
 ],
 "metadata": {
  "kernelspec": {
   "display_name": "Python 3",
   "language": "python",
   "name": "python3"
  },
  "language_info": {
   "codemirror_mode": {
    "name": "ipython",
    "version": 3
   },
   "file_extension": ".py",
   "mimetype": "text/x-python",
   "name": "python",
   "nbconvert_exporter": "python",
   "pygments_lexer": "ipython3",
   "version": "3.7.4"
  }
 },
 "nbformat": 4,
 "nbformat_minor": 4
}
